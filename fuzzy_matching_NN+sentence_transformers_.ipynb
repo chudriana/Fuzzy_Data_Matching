{
  "nbformat": 4,
  "nbformat_minor": 0,
  "metadata": {
    "colab": {
      "provenance": [],
      "authorship_tag": "ABX9TyOFYgWb6c2DQ+izx/YxR6bu",
      "include_colab_link": true
    },
    "kernelspec": {
      "name": "python3",
      "display_name": "Python 3"
    },
    "language_info": {
      "name": "python"
    }
  },
  "cells": [
    {
      "cell_type": "markdown",
      "metadata": {
        "id": "view-in-github",
        "colab_type": "text"
      },
      "source": [
        "<a href=\"https://colab.research.google.com/github/chudriana/Fuzzy_Data_Matching/blob/main/fuzzy_matching_NN%2Bsentence_transformers_.ipynb\" target=\"_parent\"><img src=\"https://colab.research.google.com/assets/colab-badge.svg\" alt=\"Open In Colab\"/></a>"
      ]
    },
    {
      "cell_type": "code",
      "execution_count": null,
      "metadata": {
        "id": "i9qxZ_oIKnnp"
      },
      "outputs": [],
      "source": [
        "from google.colab import drive\n",
        "drive.mount('/content/drive/')"
      ]
    },
    {
      "cell_type": "code",
      "source": [
        "!pip install sentence-transformers\n",
        "from sentence_transformers import SentenceTransformer\n",
        "import pandas as pd\n",
        "import numpy as np\n",
        "import re\n",
        "from sklearn.neighbors import NearestNeighbors\n",
        "# model = SentenceTransformer('all-MiniLM-L6-v2')\n",
        "model = SentenceTransformer('all-mpnet-base-v2')"
      ],
      "metadata": {
        "id": "sptXK7KCK9Id"
      },
      "execution_count": null,
      "outputs": []
    },
    {
      "cell_type": "code",
      "source": [
        "payroll = '/content/drive/MyDrive/MAPPING MITRA ID - KSM/FUZZY MATCHING/payroll.csv'\n",
        "mitra = '/content/drive/MyDrive/MAPPING MITRA ID - KSM/FUZZY MATCHING/mitra.csv'"
      ],
      "metadata": {
        "id": "tb9IAalPKuZK"
      },
      "execution_count": null,
      "outputs": []
    },
    {
      "cell_type": "code",
      "source": [
        "df_mitra = pd.read_csv(mitra)\n",
        "df_payroll = pd.read_csv(payroll)"
      ],
      "metadata": {
        "id": "KlubHqIfK0N2"
      },
      "execution_count": null,
      "outputs": []
    },
    {
      "cell_type": "code",
      "source": [
        "def preprocess_name(name):\n",
        "    if pd.isna(name):\n",
        "        return \"\"\n",
        "    name = str(name).lower()\n",
        "    name = re.sub(r'\\b(pt|cv)\\b', '', name)\n",
        "    name = re.sub(r'[^a-z0-9\\s]', '', name)\n",
        "    # name = re.sub(r'\\s+', ' ', name).strip()\n",
        "    return name"
      ],
      "metadata": {
        "id": "QisV1c-SK7sV"
      },
      "execution_count": null,
      "outputs": []
    },
    {
      "cell_type": "code",
      "source": [
        "df_payroll['mitra_name_clean'] = df_payroll['mitra'].apply(preprocess_name)\n",
        "df_mitra['mitra_name_clean'] = df_mitra['mitra'].apply(preprocess_name)"
      ],
      "metadata": {
        "id": "-Ai-Bo8PLz8e"
      },
      "execution_count": null,
      "outputs": []
    },
    {
      "cell_type": "code",
      "source": [
        "df_mitra['embedding'] = df_mitra['mitra_name_clean'].apply(lambda x: model.encode(x))\n",
        "df_payroll['embedding'] = df_payroll['mitra_name_clean'].apply(lambda x: model.encode(x))\n"
      ],
      "metadata": {
        "id": "xvDy1QTnL30w"
      },
      "execution_count": null,
      "outputs": []
    },
    {
      "cell_type": "code",
      "source": [
        "def fuzzy_match_embedding(source_df, target_df, source_col='embedding', target_col='embedding', threshold=0.85):\n",
        "    source_embeddings = np.vstack(source_df[source_col].values)\n",
        "    target_embeddings = np.vstack(target_df[target_col].values)\n",
        "\n",
        "    nn = NearestNeighbors(n_neighbors=1, metric='cosine')\n",
        "    nn.fit(target_embeddings)\n",
        "    distances, indices = nn.kneighbors(source_embeddings)\n",
        "\n",
        "    similarity_scores = 1 - distances.flatten()\n",
        "\n",
        "    match_results = []\n",
        "    for i, score in enumerate(similarity_scores):\n",
        "        if score >= threshold:\n",
        "            matched_row = {\n",
        "                'payroll_name': source_df.iloc[i]['mitra'],\n",
        "                'payroll_name_clean': source_df.iloc[i]['mitra_name_clean'],\n",
        "                'matched_name': target_df.iloc[indices[i][0]]['mitra'],\n",
        "                'matched_name_clean': target_df.iloc[indices[i][0]]['mitra_name_clean'],\n",
        "                'mitra_id': target_df.iloc[indices[i][0]]['mitra_id'],\n",
        "                # 'parent_id': target_df.iloc[indices[i][0]]['parent_id'],\n",
        "                'similarity': score\n",
        "            }\n",
        "            match_results.append(matched_row)\n",
        "\n",
        "    return pd.DataFrame(match_results)\n"
      ],
      "metadata": {
        "id": "mKN3k9oYL6Nb"
      },
      "execution_count": null,
      "outputs": []
    },
    {
      "cell_type": "code",
      "source": [
        "matched_df = fuzzy_match_embedding(df_payroll, df_mitra, threshold=0.85)\n",
        "matched_df.head()"
      ],
      "metadata": {
        "id": "8dUPedT4L99r"
      },
      "execution_count": null,
      "outputs": []
    },
    {
      "cell_type": "code",
      "source": [
        "matched_df.to_csv('/content/drive/MyDrive/MAPPING MITRA ID - KSM/FUZZY MATCHING/matched_mitra_id_all-mpnet-base-v2.csv', index=False)"
      ],
      "metadata": {
        "id": "pOKXQPaDL_8B"
      },
      "execution_count": null,
      "outputs": []
    }
  ]
}