{
  "nbformat": 4,
  "nbformat_minor": 0,
  "metadata": {
    "colab": {
      "provenance": [],
      "authorship_tag": "ABX9TyPlwFAjmaqq2zn8BJjOTCem",
      "include_colab_link": true
    },
    "kernelspec": {
      "name": "python3",
      "display_name": "Python 3"
    },
    "language_info": {
      "name": "python"
    }
  },
  "cells": [
    {
      "cell_type": "markdown",
      "metadata": {
        "id": "view-in-github",
        "colab_type": "text"
      },
      "source": [
        "<a href=\"https://colab.research.google.com/github/chudriana/Fuzzy_Data_Matching/blob/main/FuzzyMatching_fuzz_token_sort_ration.ipynb\" target=\"_parent\"><img src=\"https://colab.research.google.com/assets/colab-badge.svg\" alt=\"Open In Colab\"/></a>"
      ]
    },
    {
      "cell_type": "code",
      "source": [
        "!pip install thefuzz\n",
        "!pip install fuzzywuzzy"
      ],
      "metadata": {
        "id": "0wID2wztY2lA"
      },
      "execution_count": null,
      "outputs": []
    },
    {
      "cell_type": "code",
      "execution_count": null,
      "metadata": {
        "id": "MSfvxjL_UwNy"
      },
      "outputs": [],
      "source": [
        "from google.colab import drive\n",
        "drive.mount('/content/drive/')"
      ]
    },
    {
      "cell_type": "code",
      "source": [
        "import pandas as pd\n",
        "from fuzzywuzzy import process\n",
        "from thefuzz import fuzz\n",
        "from rapidfuzz import process, fuzz"
      ],
      "metadata": {
        "id": "cMIYBhvuVUyl"
      },
      "execution_count": null,
      "outputs": []
    },
    {
      "cell_type": "code",
      "source": [
        "payroll = '/content/drive/MyDrive/MAPPING MITRA ID - KSM/FUZZY MATCHING/payroll.csv'\n",
        "mitra = '/content/drive/MyDrive/MAPPING MITRA ID - KSM/FUZZY MATCHING/mitra.csv'"
      ],
      "metadata": {
        "id": "C63ZAmmFU2Ev"
      },
      "execution_count": null,
      "outputs": []
    },
    {
      "cell_type": "code",
      "source": [
        "df_mitra = pd.read_csv(mitra)\n",
        "df_payroll = pd.read_csv(payroll)"
      ],
      "metadata": {
        "id": "0dDPoeqNcY-M"
      },
      "execution_count": null,
      "outputs": []
    },
    {
      "cell_type": "code",
      "source": [
        "def match_mitra(nama, list_mitra):\n",
        "    match = process.extractOne(nama, list_mitra, scorer=fuzz.token_sort_ratio)\n",
        "    if match:\n",
        "        return match[0], match[1]\n",
        "    else:\n",
        "        return None, 0\n",
        "df_payroll[['matched_mitra', 'score']] = df_payroll['mitra'].apply(\n",
        "    lambda x: pd.Series(match_mitra(x, df_mitra['mitra']))\n",
        ")"
      ],
      "metadata": {
        "id": "KYPtssoXfluj"
      },
      "execution_count": null,
      "outputs": []
    },
    {
      "cell_type": "code",
      "source": [
        "df_result = df_payroll.merge(df_mitra, left_on='matched_mitra', right_on='mitra', how='left')\n",
        "df_result_filtered = df_result[df_result['score'] >= 80]"
      ],
      "metadata": {
        "id": "0x5GagEeVUV8"
      },
      "execution_count": null,
      "outputs": []
    },
    {
      "cell_type": "code",
      "source": [
        "df_result_filtered.to_csv('/content/drive/MyDrive/MAPPING MITRA ID - KSM/FUZZY MATCHING/result/result2.csv', index=False)"
      ],
      "metadata": {
        "id": "SIMn2zmXb8OU"
      },
      "execution_count": null,
      "outputs": []
    },
    {
      "cell_type": "code",
      "source": [],
      "metadata": {
        "id": "f81QzXcRgX1X"
      },
      "execution_count": null,
      "outputs": []
    }
  ]
}